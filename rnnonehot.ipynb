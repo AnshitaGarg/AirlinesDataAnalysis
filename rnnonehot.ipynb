{
  "nbformat": 4,
  "nbformat_minor": 0,
  "metadata": {
    "colab": {
      "provenance": [],
      "authorship_tag": "ABX9TyPLB41HPM89zwAMZ9sO5EJL",
      "include_colab_link": true
    },
    "kernelspec": {
      "name": "python3",
      "display_name": "Python 3"
    },
    "language_info": {
      "name": "python"
    }
  },
  "cells": [
    {
      "cell_type": "markdown",
      "metadata": {
        "id": "view-in-github",
        "colab_type": "text"
      },
      "source": [
        "<a href=\"https://colab.research.google.com/github/AnshitaGarg/AirlinesDataAnalysis/blob/main/rnnonehot.ipynb\" target=\"_parent\"><img src=\"https://colab.research.google.com/assets/colab-badge.svg\" alt=\"Open In Colab\"/></a>"
      ]
    },
    {
      "cell_type": "code",
      "source": [
        "from google.colab import drive\n",
        "drive.mount('/content/drive')\n"
      ],
      "metadata": {
        "colab": {
          "base_uri": "https://localhost:8080/"
        },
        "id": "0K8iV6YnccU0",
        "outputId": "1aed95d1-f535-45e2-f0f6-133ac0c2dbc0"
      },
      "execution_count": null,
      "outputs": [
        {
          "output_type": "stream",
          "name": "stdout",
          "text": [
            "Mounted at /content/drive\n"
          ]
        }
      ]
    },
    {
      "cell_type": "code",
      "source": [
        "!ls \"/content/drive/My Drive\"\n"
      ],
      "metadata": {
        "colab": {
          "base_uri": "https://localhost:8080/"
        },
        "id": "UrFeaVSCcl-Y",
        "outputId": "4c71d64c-c9b6-4305-f42e-3bc9fb8afc61"
      },
      "execution_count": null,
      "outputs": [
        {
          "output_type": "stream",
          "name": "stdout",
          "text": [
            "'1f4ece28-58bf-46cf-a0c9-60817ec03d1a (1).png'\n",
            " 1st.gdoc\n",
            "'2023-04-10 (11).png'\n",
            "'2023-04-10 (7).png'\n",
            "'20231214_143135 (1).jpg'\n",
            "'20231214_143135 (2).jpg'\n",
            " 20231214_143135.jpg\n",
            "'2023 wrap up.gdoc'\n",
            " 20240430_174931.jpg\n",
            " 24.gdoc\n",
            " 329642f498d34c29879486992ebef9fd-0001.jpg\n",
            " 478768cc6665408ba290b8e4de9fc93f-0001.jpg\n",
            "'5. Text book pdf Probability_Random_Variables_and_Random_Signal_Principles_Peebles_4th (1).gdoc'\n",
            "'5. Text book pdf Probability_Random_Variables_and_Random_Signal_Principles_Peebles_4th.gdoc'\n",
            " 62.gdoc\n",
            " 7892fee247774246b98c9487ca1a2f72-0001.jpg\n",
            " 9017d59e-8ae5-4f4c-9d70-2b082a813e84.png\n",
            "'ACCOUNTING PRINCIPLES THEORY[1].pptx'\n",
            " achievements.gdoc\n",
            " Anshita_Garg_Resume.docx.pdf\n",
            " AnshitaGarg_transcripts_1to6_July2023.pdf\n",
            " APznzaabT6t7Nbft62eimgEs-e85i6M26cJYrCBSPrKREsWZ19BKQlf3paGDqhtfcAFtJa-otkQ_MoWjpFj_5UgQvr3J3n7dYbLEtA1JHzJ1jxDs8oayNTWaYjzdaJJulAYZw1RAHQUhn7YrjJ4M_nGBKL_o39EffCLDQI1hx3sUzUH5X29T94ZwXeBs3diELCTzLIaLAPZSOTJoty5ggd_Pa.pdf\n",
            " biblio.gdoc\n",
            "'Blockchain potential role in preventing financial frauds.gdoc'\n",
            "'BLOCKCHAIN TECHNOLOGY.gdoc'\n",
            "'Brochure Invictus.gdoc'\n",
            "'Bulls and Bears.gdoc'\n",
            "'Bulls and Bears Registration..gsheet'\n",
            "'Call recording Smriti. Aggarwal Only IAS_250301_123937.m4a'\n",
            "'Caption .gdoc'\n",
            " cd.gdoc\n",
            " Classroom\n",
            "'Colab Notebooks'\n",
            " Conferences.gsheet\n",
            "'Copy of Bulls and Bears Registration..gsheet'\n",
            "'Copy of CD_FILE_Aditi_Chauhan_2K21 CO 22.gdoc'\n",
            "'Copy of cn 5.gdoc'\n",
            "'Copy of DL Lab E5 (1).gdoc'\n",
            "'Copy of DL Lab E5.gdoc'\n",
            "'Copy of Edition 62 | Posting Schedule.gsheet'\n",
            "'Copy of Itinerary - Invictus 2024.gsheet'\n",
            "'Copy of SOFTWARE ENGINEERING FILE.gdoc'\n",
            "'Copy of Sonam Rewari.png'\n",
            "'Copy of Student News: Edition 61.gdoc'\n",
            "'DELHI TECHNOLOGICAL UNIVERSITY (formerly Delhi College of Engineering).gdoc'\n",
            "'DELHI TECHNOLOGICAL UNIVERSITY.gdoc'\n",
            " DISCLAIMER.gdoc\n",
            "'dtu speaks.gsheet'\n",
            "'ECHO 4.0.gsheet'\n",
            "'Echo edits.gdoc'\n",
            "'Edition 62 | Work Allocation Form (Responses).gsheet'\n",
            "'e summit.gdoc'\n",
            "'Event Proposal, WIE, IEEE DTU.gdoc'\n",
            "'extension deadline.gdoc'\n",
            "'FAC NOTES.gdoc'\n",
            "'Final Project'\n",
            "'FINTECH QUESTIONNAIRE.gdoc'\n",
            "\"Gallery 16 May'23\"\n",
            "'Gallery 5 Nov'\n",
            " Graphica_Editorial_College_Invitation.gdoc\n",
            "'graphica finals (1).gsheet'\n",
            "'graphica finals.gsheet'\n",
            "'Graphica Prize Details.gform'\n",
            "'Graphica Registration Form (File responses)'\n",
            "'Graphica Registration Form.gform'\n",
            "'Graphica Registration Form (Responses).gsheet'\n",
            "'Graphica, UI UX Design Competition.gdoc'\n",
            "'IEEE Invictus.gsheet'\n",
            "'IIT MANDI x DTU -.gdoc'\n",
            "'ilovepdf_merged (1).pdf'\n",
            "'ILS bochure changes.gdoc'\n",
            " images.png\n",
            " IMG-20241127-WA0049.jpg\n",
            "\"Intern Experience'23.gform\"\n",
            "'Intern Experience'\\''23 (Responses).gsheet'\n",
            "'Internship 2024 (File responses)'\n",
            "'Internship 2024.gform'\n",
            "'intern shortlisted.gsheet'\n",
            " invitation.gdoc\n",
            " itinerary.gdoc\n",
            " Judges.gsheet\n",
            "'Kloud 9 magazine.pdf'\n",
            " lor.gdoc\n",
            "'Mail (1).gdoc'\n",
            " Mail.gdoc\n",
            "'Minor Project Report.gdoc'\n",
            " moodi.gdoc\n",
            " Motivation.gdoc\n",
            "'Notice registation_copy.pdf'\n",
            " oose.gdoc\n",
            " photocollage_2022123222050528.jpg\n",
            " PhotoEditor_202263164222363.jpg\n",
            "'Photo from Anshita Garg'\n",
            "'Pitchfork Final Submission (File responses)'\n",
            "'Pitchfork Final Submission.gform'\n",
            "'Pitchfork Final Submission (Responses).gsheet'\n",
            " pitchfork.gdoc\n",
            " Pitchfork.gdoc\n",
            " POA.gdoc\n",
            " poems-100.csv\n",
            " poems.pdf\n",
            "'progress (1).gsheet'\n",
            " progress.gsheet\n",
            "'PROSPECTIVE JUDGES.gdoc'\n",
            " pulse.gdoc\n",
            " pwc\n",
            "'SAHITYA ACHIEVEMENTS.gdoc'\n",
            " Screenshot_20240124_225856_Paytm.jpg\n",
            " Screenshot_20240409_205238_Paytm.jpg\n",
            " Screenshot_20240417_164753_Zomato.jpg\n",
            "'SEMINAR ON FINTECH, WIE IEEE-DELHI SSN.gdoc'\n",
            "'Snapchat-464649585 (1).jpg'\n",
            "'Snapchat-464649585 (2).jpg'\n",
            " Snapchat-464649585.jpg\n",
            "'Society News | Edition 63.gdoc'\n",
            "'Stock market PowerPoint.gslides'\n",
            "'Stock market PowerPoint.pptx'\n",
            "'Subject: Proposal for Collaboration: IEEE IIT Mandi x IEEE DTU.gdoc'\n",
            " TATA.gslides\n",
            " titles.gsheet\n",
            "'UI UX Design Judges.gdoc'\n",
            "'Untitled document (10).gdoc'\n",
            "'Untitled document (11).gdoc'\n",
            "'Untitled document (12).gdoc'\n",
            "'Untitled document (13).gdoc'\n",
            "'Untitled document (14).gdoc'\n",
            "'Untitled document (15).gdoc'\n",
            "'Untitled document (16).gdoc'\n",
            "'Untitled document (17).gdoc'\n",
            "'Untitled document (18).gdoc'\n",
            "'Untitled document (19).gdoc'\n",
            "'Untitled document (1).gdoc'\n",
            "'Untitled document (20).gdoc'\n",
            "'Untitled document (21).gdoc'\n",
            "'Untitled document (22).gdoc'\n",
            "'Untitled document (23).gdoc'\n",
            "'Untitled document (24).gdoc'\n",
            "'Untitled document (2).gdoc'\n",
            "'Untitled document (3).gdoc'\n",
            "'Untitled document (4).gdoc'\n",
            "'Untitled document (5).gdoc'\n",
            "'Untitled document (6).gdoc'\n",
            "'Untitled document (7).gdoc'\n",
            "'Untitled document (8).gdoc'\n",
            "'Untitled document (9).gdoc'\n",
            "'Untitled document.gdoc'\n",
            "'Untitled form (1).gform'\n",
            "'Untitled form (2).gform'\n",
            "'Untitled form (File responses)'\n",
            "'Untitled form.gform'\n",
            "'Untitled presentation.gslides'\n",
            "'Untitled spreadsheet (1).gsheet'\n",
            "'Untitled spreadsheet (2).gsheet'\n",
            "'Untitled spreadsheet (3).gsheet'\n",
            "'Untitled spreadsheet (4).gsheet'\n",
            "'Untitled spreadsheet.gsheet'\n",
            " upsc\n",
            "\"UPSC'23.gform\"\n",
            "'Vihaan Timeline.gsheet'\n",
            "'Women In Engineering.gdoc'\n"
          ]
        }
      ]
    },
    {
      "cell_type": "code",
      "source": [
        "import os\n",
        "file_name = \"poems-100.csv\"  # Change this to your actual file name\n",
        "folder_path = \"/content/drive/My Drive\"  # Change this if needed\n",
        "\n",
        "file_path = os.path.join(folder_path, file_name)\n",
        "print(\"File path:\", file_path)\n"
      ],
      "metadata": {
        "colab": {
          "base_uri": "https://localhost:8080/"
        },
        "id": "Uis13LtFdYDG",
        "outputId": "6534ac6c-c27d-488e-e5ea-22f06859db12"
      },
      "execution_count": null,
      "outputs": [
        {
          "output_type": "stream",
          "name": "stdout",
          "text": [
            "File path: /content/drive/My Drive/poems-100.csv\n"
          ]
        }
      ]
    },
    {
      "cell_type": "code",
      "source": [
        "import tensorflow as tf\n",
        "from tensorflow.keras.layers import LSTM, Dense, Embedding\n",
        "from tensorflow.keras.models import Sequential\n",
        "from tensorflow.keras.preprocessing.sequence import pad_sequences\n",
        "from tensorflow.keras.utils import to_categorical\n",
        "import numpy as np\n",
        "\n",
        "# Load and preprocess the poetry dataset\n",
        "def load_poetry_data(filepath):\n",
        "    with open(filepath, 'r', encoding='utf-8') as f:\n",
        "        text = f.read()\n",
        "\n",
        "    text = text.lower()  # Normalize to lowercase\n",
        "    chars = sorted(list(set(text)))  # Unique characters\n",
        "    char_to_index = {c: i for i, c in enumerate(chars)}  # Mapping\n",
        "    index_to_char = {i: c for i, c in enumerate(chars)}  # Reverse mapping\n",
        "\n",
        "    return text, chars, char_to_index, index_to_char\n",
        "\n",
        "# Prepare sequences for training\n",
        "def prepare_sequences(text, seq_length, char_to_index):\n",
        "    sequences = []\n",
        "    targets = []\n",
        "\n",
        "    for i in range(len(text) - seq_length):\n",
        "        seq = [char_to_index[char] for char in text[i: i + seq_length]]\n",
        "        target = char_to_index[text[i + seq_length]]  # Next character as target\n",
        "        sequences.append(seq)\n",
        "        targets.append(target)\n",
        "\n",
        "    X = pad_sequences(sequences, maxlen=seq_length, padding='post')  # Ensure uniform length\n",
        "    y = to_categorical(targets, num_classes=len(char_to_index))  # One-hot encode target\n",
        "\n",
        "    return np.array(X), np.array(y)\n",
        "\n",
        "# Build the LSTM model\n",
        "def build_model(vocab_size, seq_length, embedding_dim=128, hidden_units=256):\n",
        "    model = Sequential([\n",
        "        Embedding(vocab_size, embedding_dim, input_length=seq_length),\n",
        "        LSTM(hidden_units, return_sequences=True),\n",
        "        LSTM(hidden_units),\n",
        "        Dense(vocab_size, activation='softmax')\n",
        "    ])\n",
        "    model.compile(loss='categorical_crossentropy', optimizer='adam', metrics=['accuracy'])\n",
        "    return model\n",
        "\n",
        "# Generate text using the trained model\n",
        "def generate_text(model, start_string, length, seq_length, char_to_index, index_to_char):\n",
        "    generated_text = start_string\n",
        "\n",
        "    for _ in range(length):\n",
        "        sequence = [char_to_index[char] for char in generated_text[-seq_length:] if char in char_to_index]\n",
        "        sequence = pad_sequences([sequence], maxlen=seq_length, padding='post')\n",
        "\n",
        "        predicted_probs = model.predict(sequence, verbose=0)[0]\n",
        "        predicted_index = np.argmax(predicted_probs)  # Get most probable next char\n",
        "        predicted_char = index_to_char[predicted_index]\n",
        "\n",
        "        generated_text += predicted_char\n",
        "\n",
        "    return generated_text\n",
        "\n",
        "# Main execution\n",
        "if __name__ == \"__main__\":\n",
        "    # Load dataset\n",
        "    file_path = \"/content/drive/My Drive/poems-100.csv\"  # Change this if needed\n",
        "    text, chars, char_to_index, index_to_char = load_poetry_data(file_path)\n",
        "\n",
        "    # Define hyperparameters\n",
        "    seq_length = 100  # Number of characters per training sequence\n",
        "    vocab_size = len(chars)\n",
        "\n",
        "    # Prepare training data\n",
        "    X, y = prepare_sequences(text, seq_length, char_to_index)\n",
        "\n",
        "    # Build and train the model\n",
        "    model = build_model(vocab_size, seq_length)\n",
        "    model.fit(X, y, epochs=10, batch_size=128)\n",
        "\n",
        "    # Generate new poetry\n",
        "    start_text = \"The sun sets on the horizon\"\n",
        "    generated_poem = generate_text(model, start_text, 100, seq_length, char_to_index, index_to_char)\n",
        "\n",
        "    print(\"\\nGenerated Poem:\\n\", generated_poem)\n"
      ],
      "metadata": {
        "id": "flnxSyHTpBQO",
        "outputId": "ceae5063-3587-47be-d477-d73383f655a4",
        "colab": {
          "base_uri": "https://localhost:8080/"
        }
      },
      "execution_count": null,
      "outputs": [
        {
          "output_type": "stream",
          "name": "stdout",
          "text": [
            "Epoch 1/10\n"
          ]
        },
        {
          "output_type": "stream",
          "name": "stderr",
          "text": [
            "/usr/local/lib/python3.11/dist-packages/keras/src/layers/core/embedding.py:90: UserWarning: Argument `input_length` is deprecated. Just remove it.\n",
            "  warnings.warn(\n"
          ]
        },
        {
          "output_type": "stream",
          "name": "stdout",
          "text": [
            "\u001b[1m 268/1089\u001b[0m \u001b[32m━━━━\u001b[0m\u001b[37m━━━━━━━━━━━━━━━━\u001b[0m \u001b[1m21:01\u001b[0m 2s/step - accuracy: 0.1945 - loss: 3.0252"
          ]
        }
      ]
    }
  ]
}