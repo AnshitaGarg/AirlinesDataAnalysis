{
  "nbformat": 4,
  "nbformat_minor": 0,
  "metadata": {
    "colab": {
      "provenance": [],
      "authorship_tag": "ABX9TyNp+Lm+jEXnPboJNrmWWEnz",
      "include_colab_link": true
    },
    "kernelspec": {
      "name": "python3",
      "display_name": "Python 3"
    },
    "language_info": {
      "name": "python"
    }
  },
  "cells": [
    {
      "cell_type": "markdown",
      "metadata": {
        "id": "view-in-github",
        "colab_type": "text"
      },
      "source": [
        "<a href=\"https://colab.research.google.com/github/AnshitaGarg/AirlinesDataAnalysis/blob/main/exp1.ipynb\" target=\"_parent\"><img src=\"https://colab.research.google.com/assets/colab-badge.svg\" alt=\"Open In Colab\"/></a>"
      ]
    },
    {
      "cell_type": "code",
      "source": [
        "import torch\n",
        "import numpy as np"
      ],
      "metadata": {
        "id": "ZVMZBsix7Uw_"
      },
      "execution_count": 3,
      "outputs": []
    },
    {
      "cell_type": "code",
      "source": [
        "print(\"### Creating Tensors ###\")\n",
        "# 1D, 2D, 3D tensors\n",
        "tensor_1d = torch.tensor([1, 2, 3])\n",
        "tensor_2d = torch.tensor([[1, 2], [3, 4]])\n",
        "tensor_3d = torch.tensor([[[1, 2], [3, 4]], [[5, 6], [7, 8]]])\n"
      ],
      "metadata": {
        "colab": {
          "base_uri": "https://localhost:8080/"
        },
        "id": "ZcSf5rA27Xpx",
        "outputId": "4684daea-4fe7-47cd-baf5-2bdcc6d9786d"
      },
      "execution_count": 4,
      "outputs": [
        {
          "output_type": "stream",
          "name": "stdout",
          "text": [
            "### Creating Tensors ###\n"
          ]
        }
      ]
    },
    {
      "cell_type": "code",
      "source": [
        "np_1d = np.array([1, 2, 3])\n",
        "np_2d = np.array([[1, 2], [3, 4]])\n",
        "np_3d = np.array([[[1, 2], [3, 4]], [[5, 6], [7, 8]]])"
      ],
      "metadata": {
        "id": "h11N_NgQ7dTS"
      },
      "execution_count": 5,
      "outputs": []
    },
    {
      "cell_type": "code",
      "source": [
        "print(f\"1D PyTorch: {tensor_1d}\")\n",
        "print(f\"2D PyTorch: \\n{tensor_2d}\")\n",
        "print(f\"3D PyTorch: \\n{tensor_3d}\")\n",
        "\n",
        "print(f\"1D NumPy: {np_1d}\")\n",
        "print(f\"2D NumPy: \\n{np_2d}\")\n",
        "print(f\"3D NumPy: \\n{np_3d}\")\n"
      ],
      "metadata": {
        "colab": {
          "base_uri": "https://localhost:8080/"
        },
        "id": "fI4xnpZ07hJC",
        "outputId": "99a0192a-55d0-430d-938d-ccbe37633ade"
      },
      "execution_count": 6,
      "outputs": [
        {
          "output_type": "stream",
          "name": "stdout",
          "text": [
            "1D PyTorch: tensor([1, 2, 3])\n",
            "2D PyTorch: \n",
            "tensor([[1, 2],\n",
            "        [3, 4]])\n",
            "3D PyTorch: \n",
            "tensor([[[1, 2],\n",
            "         [3, 4]],\n",
            "\n",
            "        [[5, 6],\n",
            "         [7, 8]]])\n",
            "1D NumPy: [1 2 3]\n",
            "2D NumPy: \n",
            "[[1 2]\n",
            " [3 4]]\n",
            "3D NumPy: \n",
            "[[[1 2]\n",
            "  [3 4]]\n",
            "\n",
            " [[5 6]\n",
            "  [7 8]]]\n"
          ]
        }
      ]
    },
    {
      "cell_type": "code",
      "source": [
        "print(\"\\n### Basic Operations ###\")\n",
        "a = torch.tensor([1.0, 2.0, 3.0])\n",
        "b = torch.tensor([4.0, 5.0, 6.0])"
      ],
      "metadata": {
        "colab": {
          "base_uri": "https://localhost:8080/"
        },
        "id": "VPPWN18d70Lo",
        "outputId": "65e322f7-8871-4f5e-d1b0-e39803af3873"
      },
      "execution_count": 7,
      "outputs": [
        {
          "output_type": "stream",
          "name": "stdout",
          "text": [
            "\n",
            "### Basic Operations ###\n"
          ]
        }
      ]
    },
    {
      "cell_type": "code",
      "source": [
        "print(f\"Addition: {a + b}\")\n",
        "print(f\"Subtraction: {a - b}\")\n",
        "print(f\"Multiplication: {a * b}\")\n",
        "print(f\"Division: {a / b}\")\n"
      ],
      "metadata": {
        "colab": {
          "base_uri": "https://localhost:8080/"
        },
        "id": "L-YZOXKN734k",
        "outputId": "281cd9b6-e1fa-48b3-df20-d6373b62d4c0"
      },
      "execution_count": 8,
      "outputs": [
        {
          "output_type": "stream",
          "name": "stdout",
          "text": [
            "Addition: tensor([5., 7., 9.])\n",
            "Subtraction: tensor([-3., -3., -3.])\n",
            "Multiplication: tensor([ 4., 10., 18.])\n",
            "Division: tensor([0.2500, 0.4000, 0.5000])\n"
          ]
        }
      ]
    },
    {
      "cell_type": "code",
      "source": [
        "print(\"\\n### Dot Product and Matrix Multiplication ###\")\n",
        "vec1 = torch.tensor([1, 2, 3])\n",
        "vec2 = torch.tensor([4, 5, 6])\n",
        "dot = torch.dot(vec1, vec2)"
      ],
      "metadata": {
        "colab": {
          "base_uri": "https://localhost:8080/"
        },
        "id": "fcKMJ0XQ7_Qo",
        "outputId": "a10b50a8-3358-42b3-b285-81cca4604b41"
      },
      "execution_count": 9,
      "outputs": [
        {
          "output_type": "stream",
          "name": "stdout",
          "text": [
            "\n",
            "### Dot Product and Matrix Multiplication ###\n"
          ]
        }
      ]
    },
    {
      "cell_type": "code",
      "source": [
        "print(f\"Dot Product: {dot}\")"
      ],
      "metadata": {
        "colab": {
          "base_uri": "https://localhost:8080/"
        },
        "id": "ENueIHXK8BHn",
        "outputId": "40951f57-0051-4141-aebd-fd2ddb93586a"
      },
      "execution_count": 10,
      "outputs": [
        {
          "output_type": "stream",
          "name": "stdout",
          "text": [
            "Dot Product: 32\n"
          ]
        }
      ]
    },
    {
      "cell_type": "code",
      "source": [
        "mat1 = torch.tensor([[1, 2], [3, 4]])\n",
        "mat2 = torch.tensor([[5, 6], [7, 8]])\n",
        "matmul = torch.matmul(mat1, mat2)\n",
        "print(f\"Matrix Multiplication:\\n{matmul}\")"
      ],
      "metadata": {
        "colab": {
          "base_uri": "https://localhost:8080/"
        },
        "id": "G9LPKcxr8EDR",
        "outputId": "729d21ab-5e5b-4be2-9406-c86c8c6fd50e"
      },
      "execution_count": 11,
      "outputs": [
        {
          "output_type": "stream",
          "name": "stdout",
          "text": [
            "Matrix Multiplication:\n",
            "tensor([[19, 22],\n",
            "        [43, 50]])\n"
          ]
        }
      ]
    },
    {
      "cell_type": "code",
      "source": [
        "print(\"\\n### Indexing and Slicing ###\")\n",
        "tensor = torch.tensor([[10, 20, 30], [40, 50, 60]])"
      ],
      "metadata": {
        "colab": {
          "base_uri": "https://localhost:8080/"
        },
        "id": "4P87fLWv8HVs",
        "outputId": "87a028bc-9b9f-4bf4-8e86-2e5fdb105ba4"
      },
      "execution_count": 12,
      "outputs": [
        {
          "output_type": "stream",
          "name": "stdout",
          "text": [
            "\n",
            "### Indexing and Slicing ###\n"
          ]
        }
      ]
    },
    {
      "cell_type": "code",
      "source": [
        "print(f\"Original Tensor:\\n{tensor}\")\n",
        "print(f\"Element [1,2]: {tensor[1,2]}\")\n",
        "print(f\"First Row: {tensor[0]}\")\n",
        "print(f\"Boolean Masking > 30: {tensor[tensor > 30]}\")\n",
        "print(f\"Extracted Subtensor: {tensor[:, 1:]}\")"
      ],
      "metadata": {
        "colab": {
          "base_uri": "https://localhost:8080/"
        },
        "id": "sKAXWhNQ8KT9",
        "outputId": "24f1acbc-0cc1-420f-acd0-544db73f5909"
      },
      "execution_count": 13,
      "outputs": [
        {
          "output_type": "stream",
          "name": "stdout",
          "text": [
            "Original Tensor:\n",
            "tensor([[10, 20, 30],\n",
            "        [40, 50, 60]])\n",
            "Element [1,2]: 60\n",
            "First Row: tensor([10, 20, 30])\n",
            "Boolean Masking > 30: tensor([40, 50, 60])\n",
            "Extracted Subtensor: tensor([[20, 30],\n",
            "        [50, 60]])\n"
          ]
        }
      ]
    },
    {
      "cell_type": "code",
      "source": [
        "print(\"\\n### Reshaping Tensors ###\")\n",
        "x = torch.arange(6)\n",
        "print(f\"Original x: {x}\")\n",
        "print(f\"x.view(2, 3):\\n{x.view(2, 3)}\")\n",
        "print(f\"x.reshape(2, 3):\\n{x.reshape(2, 3)}\")"
      ],
      "metadata": {
        "colab": {
          "base_uri": "https://localhost:8080/"
        },
        "id": "TjWRF3Kf8NVN",
        "outputId": "3aa70104-8201-400d-dc22-1b0151a7ff96"
      },
      "execution_count": 14,
      "outputs": [
        {
          "output_type": "stream",
          "name": "stdout",
          "text": [
            "\n",
            "### Reshaping Tensors ###\n",
            "Original x: tensor([0, 1, 2, 3, 4, 5])\n",
            "x.view(2, 3):\n",
            "tensor([[0, 1, 2],\n",
            "        [3, 4, 5]])\n",
            "x.reshape(2, 3):\n",
            "tensor([[0, 1, 2],\n",
            "        [3, 4, 5]])\n"
          ]
        }
      ]
    },
    {
      "cell_type": "code",
      "source": [
        "y = torch.tensor([[1, 2], [3, 4]])\n",
        "print(f\"Unsqueeze y (add dim 0):\\n{y.unsqueeze(0)}\")\n",
        "print(f\"Squeeze y (remove dim):\\n{y.unsqueeze(0).squeeze()}\")"
      ],
      "metadata": {
        "colab": {
          "base_uri": "https://localhost:8080/"
        },
        "id": "683SegwJ8Qao",
        "outputId": "5422d7c0-6c81-4ef7-82ff-d09dcb539636"
      },
      "execution_count": 15,
      "outputs": [
        {
          "output_type": "stream",
          "name": "stdout",
          "text": [
            "Unsqueeze y (add dim 0):\n",
            "tensor([[[1, 2],\n",
            "         [3, 4]]])\n",
            "Squeeze y (remove dim):\n",
            "tensor([[1, 2],\n",
            "        [3, 4]])\n"
          ]
        }
      ]
    },
    {
      "cell_type": "code",
      "source": [
        "# NumPy Comparison\n",
        "np_x = np.arange(6)\n",
        "print(f\"NumPy Reshape:\\n{np_x.reshape(2, 3)}\")\n",
        "\n",
        "print(\"\\n### Broadcasting ###\")\n",
        "a = torch.tensor([[1], [2], [3]])\n",
        "b = torch.tensor([10, 20, 30])\n",
        "print(f\"a shape: {a.shape}, b shape: {b.shape}\")\n",
        "print(f\"Broadcasted Addition:\\n{a + b}\")\n",
        "\n",
        "print(\"\\n### In-place vs Out-of-place Operations ###\")\n",
        "t = torch.tensor([1.0, 2.0, 3.0])\n",
        "print(f\"Original t: {t}\")\n"
      ],
      "metadata": {
        "colab": {
          "base_uri": "https://localhost:8080/"
        },
        "id": "0xvuWL-68S73",
        "outputId": "2fa9a416-7300-4aaf-cbff-3c0ca58f50c2"
      },
      "execution_count": 16,
      "outputs": [
        {
          "output_type": "stream",
          "name": "stdout",
          "text": [
            "NumPy Reshape:\n",
            "[[0 1 2]\n",
            " [3 4 5]]\n",
            "\n",
            "### Broadcasting ###\n",
            "a shape: torch.Size([3, 1]), b shape: torch.Size([3])\n",
            "Broadcasted Addition:\n",
            "tensor([[11, 21, 31],\n",
            "        [12, 22, 32],\n",
            "        [13, 23, 33]])\n",
            "\n",
            "### In-place vs Out-of-place Operations ###\n",
            "Original t: tensor([1., 2., 3.])\n"
          ]
        }
      ]
    },
    {
      "cell_type": "code",
      "source": [
        "# Out-of-place\n",
        "t_add = t + 2\n",
        "print(f\"t + 2 (Out-of-place): {t_add}\")\n",
        "print(f\"t after out-of-place: {t}\")\n",
        "\n",
        "# In-place\n",
        "t.add_(2)\n",
        "print(f\"t after add_ (In-place): {t}\")"
      ],
      "metadata": {
        "colab": {
          "base_uri": "https://localhost:8080/"
        },
        "id": "vmr4yoMO8YMn",
        "outputId": "a65c4838-a86a-457b-cfbc-c865e64dd67e"
      },
      "execution_count": 17,
      "outputs": [
        {
          "output_type": "stream",
          "name": "stdout",
          "text": [
            "t + 2 (Out-of-place): tensor([3., 4., 5.])\n",
            "t after out-of-place: tensor([1., 2., 3.])\n",
            "t after add_ (In-place): tensor([3., 4., 5.])\n"
          ]
        }
      ]
    }
  ]
}